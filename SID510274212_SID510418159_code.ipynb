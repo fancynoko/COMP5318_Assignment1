{
 "cells": [
  {
   "cell_type": "markdown",
   "metadata": {
    "id": "qIcuB1qpXXzV"
   },
   "source": [
    "# COMP5318 - Machine Learning and Data Mining: Assignment 1\n",
    "<div style=\"text-align: right\"> Due: Friday Week 7 - Fri 8 April 2022 11:59PM </div>"
   ]
  },
  {
   "cell_type": "markdown",
   "metadata": {
    "id": "-u7p4JTIXXza",
    "nbpresent": {
     "id": "375753da-1c6c-4b02-986a-6e3b185a5869"
    }
   },
   "source": [
    "# 1. Summary\n",
    "The goal of this assignment is to build a classifier to classify some grayscale images of the size 28x28 into a set of categories. The dimension of the original data is large, so you need to be smart on which method you gonna use and perhaps perform a pre-processing step to reduce the amount of computation. Part of your marks will be a function of the performance of your classifier on the test set."
   ]
  },
  {
   "cell_type": "markdown",
   "metadata": {
    "id": "vlWbZY7JXXzc"
   },
   "source": [
    "# 2. Dataset description\n",
    "The dataset can be downloaded from Canvas. The dataset consists of a training set of 30,000 examples and a test set of 5,000 examples. They belong to 10 different categories. The validation set is not provided, but you can randomly pick a subset of the training set for validation. The features of the 5,000 test examples are given, you will analyse the performance of your proposed method by uploading the predicted labels of test examples onto [Kaggle Leaderboard](https://www.kaggle.com/t/a781604ffe46a42f903dd4be1b9daf16). You can find the instruction of using the leaderboard in Part 5.2. The leaderboard will compute the accuracy of your model, and team ranking will be shown based on the performance. Please note that we provide only PART of the original Fashion-MNIST, you must use the GIVEN `train.csv` (not the original dataset from the official website) for training; or it will be considered as cheating. <br />\n",
    "Here are examples illustrating samples of the dataset (each class takes one row):"
   ]
  },
  {
   "cell_type": "markdown",
   "metadata": {
    "id": "JRTiLolPXXzo"
   },
   "source": [
    "<img src=\"Dataset_image.jpg\" alt=\"DataSet\" title=\"DataSet\" width=\"450\" height=\"300\" />"
   ]
  },
  {
   "cell_type": "markdown",
   "metadata": {
    "id": "eBPRrkMpXXzo"
   },
   "source": [
    "There are 10 classes in total:\n",
    "\n",
    "    - 0 T-shirt/Top\n",
    "    - 1 Trouser\n",
    "    - 2 Pullover\n",
    "    - 3 Dress\n",
    "    - 4 Coat\n",
    "    - 5 Sandal\n",
    "    - 6 Shirt\n",
    "    - 7 Sneaker\n",
    "    - 8 Bag\n",
    "    - 9 Ankle boot"
   ]
  },
  {
   "cell_type": "markdown",
   "metadata": {
    "id": "4MSUFRO4XXzp"
   },
   "source": [
    "# 3. Load the data and make output prediciton\n",
    "An Input folder including only 2 files (which can be downloaded from Canvas):\n",
    "\n",
    "    1. train.csv (30000 image samples for training including features and label) \n",
    "    2. test_input.csv (5000 images for prediction)"
   ]
  },
  {
   "cell_type": "markdown",
   "metadata": {
    "id": "xwI46pc3XXzq"
   },
   "source": [
    "## 3.1 Load the dataset "
   ]
  },
  {
   "cell_type": "markdown",
   "metadata": {
    "id": "ssDOH7_NXXzr"
   },
   "source": [
    "To read the *csv* file and load the data into a dataframe using pandas. \n",
    "\n",
    "The **training data files are in the ./Input/train** and **testing data file are in ./Input/test**. <br /> Use the following code:"
   ]
  },
  {
   "cell_type": "code",
   "execution_count": 1,
   "metadata": {
    "colab": {
     "base_uri": "https://localhost:8080/"
    },
    "id": "3Qzyym0PXXzt",
    "outputId": "af493312-4da6-451b-efd7-0353f56995d5"
   },
   "outputs": [
    {
     "name": "stdout",
     "output_type": "stream",
     "text": [
      "['train.csv']\n"
     ]
    }
   ],
   "source": [
    "import pandas as pd\n",
    "import os\n",
    "print(os.listdir(\"./Input/train\"))\n",
    "pd.set_option('display.max_columns', 10)"
   ]
  },
  {
   "cell_type": "code",
   "execution_count": 2,
   "metadata": {
    "id": "SIz7li7zXXzv"
   },
   "outputs": [],
   "source": [
    "# train.csv including feature and label using for training model.\n",
    "data_train_df = pd.read_csv('./Input/train/train.csv')"
   ]
  },
  {
   "cell_type": "code",
   "execution_count": 3,
   "metadata": {
    "colab": {
     "base_uri": "https://localhost:8080/",
     "height": 236
    },
    "id": "p3IKpXj1XXzw",
    "outputId": "6b08fbe0-2f73-44b8-904e-acd65535b4e7"
   },
   "outputs": [
    {
     "data": {
      "text/html": [
       "<div>\n",
       "<style scoped>\n",
       "    .dataframe tbody tr th:only-of-type {\n",
       "        vertical-align: middle;\n",
       "    }\n",
       "\n",
       "    .dataframe tbody tr th {\n",
       "        vertical-align: top;\n",
       "    }\n",
       "\n",
       "    .dataframe thead th {\n",
       "        text-align: right;\n",
       "    }\n",
       "</style>\n",
       "<table border=\"1\" class=\"dataframe\">\n",
       "  <thead>\n",
       "    <tr style=\"text-align: right;\">\n",
       "      <th></th>\n",
       "      <th>id</th>\n",
       "      <th>v1</th>\n",
       "      <th>v2</th>\n",
       "      <th>v3</th>\n",
       "      <th>v4</th>\n",
       "      <th>...</th>\n",
       "      <th>v781</th>\n",
       "      <th>v782</th>\n",
       "      <th>v783</th>\n",
       "      <th>v784</th>\n",
       "      <th>label</th>\n",
       "    </tr>\n",
       "  </thead>\n",
       "  <tbody>\n",
       "    <tr>\n",
       "      <th>0</th>\n",
       "      <td>0</td>\n",
       "      <td>0</td>\n",
       "      <td>0</td>\n",
       "      <td>0</td>\n",
       "      <td>0</td>\n",
       "      <td>...</td>\n",
       "      <td>0</td>\n",
       "      <td>0</td>\n",
       "      <td>0</td>\n",
       "      <td>0</td>\n",
       "      <td>2</td>\n",
       "    </tr>\n",
       "    <tr>\n",
       "      <th>1</th>\n",
       "      <td>1</td>\n",
       "      <td>0</td>\n",
       "      <td>0</td>\n",
       "      <td>0</td>\n",
       "      <td>0</td>\n",
       "      <td>...</td>\n",
       "      <td>0</td>\n",
       "      <td>0</td>\n",
       "      <td>0</td>\n",
       "      <td>0</td>\n",
       "      <td>1</td>\n",
       "    </tr>\n",
       "    <tr>\n",
       "      <th>2</th>\n",
       "      <td>2</td>\n",
       "      <td>0</td>\n",
       "      <td>0</td>\n",
       "      <td>0</td>\n",
       "      <td>0</td>\n",
       "      <td>...</td>\n",
       "      <td>0</td>\n",
       "      <td>0</td>\n",
       "      <td>0</td>\n",
       "      <td>0</td>\n",
       "      <td>1</td>\n",
       "    </tr>\n",
       "    <tr>\n",
       "      <th>3</th>\n",
       "      <td>3</td>\n",
       "      <td>0</td>\n",
       "      <td>0</td>\n",
       "      <td>0</td>\n",
       "      <td>1</td>\n",
       "      <td>...</td>\n",
       "      <td>0</td>\n",
       "      <td>0</td>\n",
       "      <td>0</td>\n",
       "      <td>0</td>\n",
       "      <td>4</td>\n",
       "    </tr>\n",
       "    <tr>\n",
       "      <th>4</th>\n",
       "      <td>4</td>\n",
       "      <td>0</td>\n",
       "      <td>0</td>\n",
       "      <td>0</td>\n",
       "      <td>0</td>\n",
       "      <td>...</td>\n",
       "      <td>0</td>\n",
       "      <td>0</td>\n",
       "      <td>0</td>\n",
       "      <td>0</td>\n",
       "      <td>8</td>\n",
       "    </tr>\n",
       "  </tbody>\n",
       "</table>\n",
       "<p>5 rows × 786 columns</p>\n",
       "</div>"
      ],
      "text/plain": [
       "   id  v1  v2  v3  v4  ...  v781  v782  v783  v784  label\n",
       "0   0   0   0   0   0  ...     0     0     0     0      2\n",
       "1   1   0   0   0   0  ...     0     0     0     0      1\n",
       "2   2   0   0   0   0  ...     0     0     0     0      1\n",
       "3   3   0   0   0   1  ...     0     0     0     0      4\n",
       "4   4   0   0   0   0  ...     0     0     0     0      8\n",
       "\n",
       "[5 rows x 786 columns]"
      ]
     },
     "execution_count": 3,
     "metadata": {},
     "output_type": "execute_result"
    }
   ],
   "source": [
    "data_train_df.head()"
   ]
  },
  {
   "cell_type": "markdown",
   "metadata": {
    "id": "y-CkkeqQXXzx"
   },
   "source": [
    "Then data would be a dataframe with 30000 samples including 784 features (from v1 to v784) and its label."
   ]
  },
  {
   "cell_type": "code",
   "execution_count": 8,
   "metadata": {
    "id": "QZsQNQLUXXzx"
   },
   "outputs": [],
   "source": [
    "# Selecting input feature\n",
    "data_train_feature = data_train_df.loc[:, \"v1\":\"v784\"].to_numpy()\n",
    "\n",
    "# Selecting output lable \n",
    "data_train_label = data_train_df.label.to_numpy()"
   ]
  },
  {
   "cell_type": "markdown",
   "metadata": {
    "id": "4fDpn0DwXXzy"
   },
   "source": [
    "Showing a sample data. The first example belongs to class 2: Pullover"
   ]
  },
  {
   "cell_type": "code",
   "execution_count": 6,
   "metadata": {
    "colab": {
     "base_uri": "https://localhost:8080/",
     "height": 1000
    },
    "id": "EcnqIBxnXXzz",
    "outputId": "db703ea6-d2f7-4f43-dc5e-8265db1214a7"
   },
   "outputs": [
    {
     "name": "stdout",
     "output_type": "stream",
     "text": [
      "[[  0   0   0   0   1   0   0 131 184 199 229 234 217 212 204 208 226 227\n",
      "  203 185 173  44   0   4   0   0   0   0]\n",
      " [  0   0   0   0   2   0   0 214 224 116  78 149 141 148 131 121 141 141\n",
      "  169 212 251 136   0  10   0   0   0   0]\n",
      " [  0   0   1   0   5   0  43 220 217 213 104  13   6  49  36  11  37 121\n",
      "  179 208 227 155   0   0   0   0   0   0]\n",
      " [  0   0   1   0   0   0 155 233 217 226 255 252 133  64 109 127 175 240\n",
      "  232 209 224 204   0   0   3   0   0   0]\n",
      " [  0   0   0   3   0   0 212 227 223 223 217 230 241 237 210 252 229 222\n",
      "  213 218 221 216   0   0   7   0   0   0]\n",
      " [  0   0   3   0  13 193 223 215 218 215 224 225 219 213 209 212 217 225\n",
      "  225 224 217 223 198   0   0   2   0   0]\n",
      " [  0   0   0   0 197 227 211 216 215 251 236 212 250 221 213 213 207 209\n",
      "  208 212 214 210 232 169   0   0   0   0]\n",
      " [  0   0   0  13 214 206 216 214 246 116  14  29   0 212 215 211 214 209\n",
      "  211 210 209 212 203 207   4   0   0   0]\n",
      " [  0   0   0  62 223 208 222 229 195   0 103   0   0 137 240 200 219 214\n",
      "  211 207 212 216 204 221  70   0   0   0]\n",
      " [  0   0   0 104 223 203 224 236 191  66  19  59  35  96 227 203 207 223\n",
      "  221 211 204 215 203 224 131   0   0   0]\n",
      " [  0   0   0 169 220 204 221 222 229  34   0  54   0 230 199 204 208 210\n",
      "  226 223 209 217 208 216 193   0   0   0]\n",
      " [  0   0   0 206 216 205 220 223 164 221 156 149 239 217 140 244 223 139\n",
      "  152 230 216 219 209 211 217   0   0   0]\n",
      " [  0   0   0 222 213 205 222 219 150 152 201 171 162 121 120 156 151 130\n",
      "  162 225 214 221 211 211 225   0   0   0]\n",
      " [  0   0   0 233 209 207 231 230 173 164 176 155 163 174 141 150 147 153\n",
      "  157 195 221 227 216 209 238   0   0   0]\n",
      " [  0   0  11 245 208 204 230 231 137 147 144 133 125 126 126 134 129 131\n",
      "  138 193 208 222 218 207 215  39   0   0]\n",
      " [  0   0  31 246 206 199 222 251 139  73  85  77  92 111 130 150 176 187\n",
      "  200 218 206 222 219 207 248  55   0   0]\n",
      " [  0   0  56 248 203 203 225 248 210 154 210 234 236 235 235 230 224 217\n",
      "  212 213 207 222 220 208 245  61   0   0]\n",
      " [  0   0  65 246 205 200 229 235 204 229 226 208 204 204 205 204 207 205\n",
      "  205 211 203 219 223 209 245  72   0   0]\n",
      " [  0   0  85 244 203 196 239 233 202 206 208 210 210 211 213 208 206 212\n",
      "  209 210 204 218 227 210 243  79   0   0]\n",
      " [  0   0 119 241 202 194 242 225 206 213 213 212 212 211 212 209 205 213\n",
      "  212 210 204 216 229 210 240 102   0   0]\n",
      " [  0   0 145 230 200 201 240 221 208 214 214 212 212 213 213 210 204 208\n",
      "  212 212 204 217 229 210 234 124   0   0]\n",
      " [  0   0 171 223 211 200 239 224 206 215 216 214 213 213 213 211 207 207\n",
      "  211 212 207 220 224 210 235 164   0   0]\n",
      " [  0   0 133 237 210 204 235 226 206 214 214 213 212 214 214 213 210 208\n",
      "  211 212 206 219 226 210 244 103   0   0]\n",
      " [  0   0  32 217 204 207 239 229 207 213 213 211 209 213 214 213 210 212\n",
      "  212 211 200 220 226 214 221  40   0   0]\n",
      " [  0   0  33 219 209 211 204 208 219 210 214 212 211 212 212 212 209 212\n",
      "  216 214 209 211 236 212 231  55   0   0]\n",
      " [  0   0  21 199 215 228 149 168 224 210 211 212 214 214 213 214 212 211\n",
      "  207 205 212  89 233 222 197  21   0   0]\n",
      " [  0   0   0   0  12  21   0 217 239 217 224 220 218 215 217 222 222 226\n",
      "  236 219 255  51   0   0   0   0   0   0]\n",
      " [  0   0   0   0   0   0   0  48 172 181 198 206 209 210 208 202 194 186\n",
      "  175 143 106   0   0   0   0   0   0   0]]\n"
     ]
    },
    {
     "data": {
      "image/png": "[encoded data removed]",
      "text/plain": [
       "<Figure size 432x288 with 1 Axes>"
      ]
     },
     "metadata": {
      "needs_background": "light"
     },
     "output_type": "display_data"
    }
   ],
   "source": [
    "import matplotlib.pyplot as plt\n",
    "data_train_feature_pre = data_train_feature.reshape((data_train_feature.shape[0], 28, 28))\n",
    "print(data_train_feature_pre[0])\n",
    "plt.imshow(data_train_feature_pre[0], cmap=plt.get_cmap('gray'))\n",
    "plt.title(\"class \" + str(data_train_label[0]) + \": Pullover\" )\n",
    "plt.show()"
   ]
  },
  {
   "cell_type": "markdown",
   "metadata": {
    "id": "a6GspGVoXXz3",
    "nbpresent": {
     "id": "1e4a01db-cd92-48f8-bdaa-21c39456cfcb"
    }
   },
   "source": [
    "# 4. Task description\n",
    "\n",
    "Your task is to determine / build a classifier for the given data set to classify images into categories and write a report. The score allocation is as follows:\n",
    "\n",
    "    1. Code: max 65 points\n",
    "    2. Report: max 35 points\n",
    "    "
   ]
  },
  {
   "cell_type": "markdown",
   "metadata": {
    "id": "7NRCScxRXXz3"
   },
   "source": [
    "## 4.1 Code\n",
    "### The code must clearly show :\n",
    "    1. Pre-process data\n",
    "    2. Details of your implementation for each algorithm\n",
    "    3. Fine-tune hyper-parameters for each algorithm and running time\n",
    "    4. The comparison result between 4 different algorithms including 3 single methods and one ensemble method\n",
    "    5. Hardware and software specifications of the computer that you used for performance evaluation"
   ]
  },
  {
   "cell_type": "markdown",
   "metadata": {
    "id": "-_Yz_KvTXXz4"
   },
   "source": [
    "### 4.1.1 Data pre-processing"
   ]
  },
  {
   "cell_type": "code",
   "execution_count": 9,
   "metadata": {
    "id": "6xnrDPvAXXz5",
    "pycharm": {
     "name": "#%%\n"
    }
   },
   "outputs": [],
   "source": [
    "## Normalize the data\n",
    "from sklearn.model_selection import train_test_split\n",
    "from sklearn.preprocessing import MinMaxScaler\n",
    "\n",
    "X_train, X_test, y_train, y_test = train_test_split(\n",
    "    data_train_feature, data_train_label , random_state=42\n",
    ")\n",
    "\n",
    "s = MinMaxScaler()\n",
    "s.fit(X_train)\n",
    "Norm_data_train = s.transform(X_train)\n",
    "Norm_data_test = s.transform(X_test)"
   ]
  },
  {
   "cell_type": "code",
   "execution_count": 8,
   "metadata": {
    "colab": {
     "base_uri": "https://localhost:8080/",
     "height": 309
    },
    "id": "PXFUx8ZJMu_0",
    "outputId": "e78a1017-4166-4e5c-a419-455eb6b5179e"
   },
   "outputs": [
    {
     "name": "stdout",
     "output_type": "stream",
     "text": [
      "186\n"
     ]
    },
    {
     "data": {
      "image/png": "[encoded data removed]",
      "text/plain": [
       "<Figure size 432x288 with 1 Axes>"
      ]
     },
     "metadata": {
      "needs_background": "light"
     },
     "output_type": "display_data"
    }
   ],
   "source": [
    "## Using PCA to check the minimum numnber of features that should be used.  \n",
    "from sklearn.decomposition import PCA\n",
    "import numpy as np \n",
    "pca = PCA()\n",
    "pca.fit(Norm_data_train)\n",
    "axissum = np.cumsum(pca.explained_variance_ratio_)\n",
    "\n",
    "dimensions = np.argmax(axissum >= 0.95) + 1\n",
    "print(dimensions) # 186 features are needed to preserve 95% of the variance\n",
    "\n",
    "# #Visualize the dimension to check the best number of dimensions to use \n",
    "# Plot explained variance vs number of dimensions\n",
    "%matplotlib inline\n",
    "import matplotlib as mpl\n",
    "import matplotlib.pyplot as plt\n",
    "mpl.rc('axes', labelsize=14)\n",
    "mpl.rc('xtick', labelsize=12)\n",
    "mpl.rc('ytick', labelsize=12)\n",
    "plt.figure(figsize=(6,4))\n",
    "plt.plot(axissum, linewidth=3)\n",
    "plt.axis([0, 400, 0, 1])\n",
    "plt.xlabel(\"Dimensions\")\n",
    "plt.ylabel(\"Explained Variance\")\n",
    "plt.plot([dimensions, dimensions], [0, 0.95], \"k:\")\n",
    "plt.plot([0, dimensions], [0.95, 0.95], \"k:\")\n",
    "plt.plot(dimensions, 0.95, \"ko\")\n",
    "plt.annotate(\"Elbow\", xy=(65, 0.85), xytext=(70, 0.7),\n",
    "             arrowprops=dict(arrowstyle=\"->\"), fontsize=16)\n",
    "plt.grid(True)\n",
    "plt.show()\n",
    "\n",
    "\n",
    "\n",
    "\n"
   ]
  },
  {
   "cell_type": "code",
   "execution_count": 9,
   "metadata": {
    "colab": {
     "base_uri": "https://localhost:8080/"
    },
    "id": "Jz0g1BA1N4m8",
    "outputId": "7a6acde2-5318-4ed9-db05-4abcda13f7a9"
   },
   "outputs": [
    {
     "name": "stdout",
     "output_type": "stream",
     "text": [
      "(22500, 186)\n",
      "(7500, 186)\n"
     ]
    }
   ],
   "source": [
    "# Fit PCA model to normalize dataset \n",
    "pca_model = PCA(n_components=186)\n",
    "X_train_reduce = pca_model.fit_transform(Norm_data_train)\n",
    "X_test_reduce = pca_model.transform(Norm_data_test)\n",
    "print(X_train_reduce.shape)\n",
    "print(X_test_reduce.shape)"
   ]
  },
  {
   "cell_type": "markdown",
   "metadata": {
    "id": "9Z4dyOLOXXz5"
   },
   "source": [
    "### 4.1.2 Classification algorithms "
   ]
  },
  {
   "cell_type": "markdown",
   "metadata": {
    "id": "FezOflJbXXz6"
   },
   "source": [
    "\n",
    "Apply four classifier to the pre-processed dataset:\n",
    "\n",
    "    1. Nearest Neighbor\n",
    "    2. Logistic Regression\n",
    "    3. Decision Tree\n",
    "    4. SVM\n",
    "\n",
    "and one ensemble method:\n",
    "    \n",
    "    1. Random forest\n",
    "    \n",
    "For binary classifiers, we can use those classifiers for the data which has more than 2 labels using the one-vs-rest method. The implementation can use sklearn, or can be implemented from scratch."
   ]
  },
  {
   "cell_type": "code",
   "execution_count": 11,
   "metadata": {
    "id": "Gnc4uflIWTY6"
   },
   "outputs": [],
   "source": [
    "# Import the accuracy score module \n",
    "from sklearn.metrics import accuracy_score"
   ]
  },
  {
   "cell_type": "code",
   "execution_count": 11,
   "metadata": {
    "colab": {
     "base_uri": "https://localhost:8080/"
    },
    "id": "x3mmYOz2XXz6",
    "outputId": "907cd5cf-189a-442f-dd30-070440235a23",
    "pycharm": {
     "name": "#%%\n"
    }
   },
   "outputs": [
    {
     "name": "stdout",
     "output_type": "stream",
     "text": [
      "KNN Classifier accuracy on the test set: 0.85\n"
     ]
    }
   ],
   "source": [
    "#Neareast Neighbor\n",
    "from sklearn.neighbors import KNeighborsClassifier\n",
    "nn = KNeighborsClassifier()\n",
    "nn.fit(X_train_reduce, y_train)\n",
    "output_prediction = nn.predict(X_test_reduce)\n",
    "print(\"KNN Classifier accuracy on the test set: {:.2f}\".format(accuracy_score(y_test, output_prediction)))"
   ]
  },
  {
   "cell_type": "code",
   "execution_count": 29,
   "metadata": {
    "colab": {
     "base_uri": "https://localhost:8080/"
    },
    "id": "JLM18AKoXXz7",
    "outputId": "5889044d-c0d3-4f39-8d35-c73d1c3f529b",
    "pycharm": {
     "name": "#%%\n"
    }
   },
   "outputs": [
    {
     "name": "stderr",
     "output_type": "stream",
     "text": [
      "/usr/local/lib/python3.7/dist-packages/sklearn/linear_model/_logistic.py:818: ConvergenceWarning: lbfgs failed to converge (status=1):\n",
      "STOP: TOTAL NO. of ITERATIONS REACHED LIMIT.\n",
      "\n",
      "Increase the number of iterations (max_iter) or scale the data as shown in:\n",
      "    https://scikit-learn.org/stable/modules/preprocessing.html\n",
      "Please also refer to the documentation for alternative solver options:\n",
      "    https://scikit-learn.org/stable/modules/linear_model.html#logistic-regression\n",
      "  extra_warning_msg=_LOGISTIC_SOLVER_CONVERGENCE_MSG,\n",
      "/usr/local/lib/python3.7/dist-packages/sklearn/linear_model/_logistic.py:818: ConvergenceWarning: lbfgs failed to converge (status=1):\n",
      "STOP: TOTAL NO. of ITERATIONS REACHED LIMIT.\n",
      "\n",
      "Increase the number of iterations (max_iter) or scale the data as shown in:\n",
      "    https://scikit-learn.org/stable/modules/preprocessing.html\n",
      "Please also refer to the documentation for alternative solver options:\n",
      "    https://scikit-learn.org/stable/modules/linear_model.html#logistic-regression\n",
      "  extra_warning_msg=_LOGISTIC_SOLVER_CONVERGENCE_MSG,\n",
      "/usr/local/lib/python3.7/dist-packages/sklearn/linear_model/_logistic.py:818: ConvergenceWarning: lbfgs failed to converge (status=1):\n",
      "STOP: TOTAL NO. of ITERATIONS REACHED LIMIT.\n",
      "\n",
      "Increase the number of iterations (max_iter) or scale the data as shown in:\n",
      "    https://scikit-learn.org/stable/modules/preprocessing.html\n",
      "Please also refer to the documentation for alternative solver options:\n",
      "    https://scikit-learn.org/stable/modules/linear_model.html#logistic-regression\n",
      "  extra_warning_msg=_LOGISTIC_SOLVER_CONVERGENCE_MSG,\n",
      "/usr/local/lib/python3.7/dist-packages/sklearn/linear_model/_logistic.py:818: ConvergenceWarning: lbfgs failed to converge (status=1):\n",
      "STOP: TOTAL NO. of ITERATIONS REACHED LIMIT.\n",
      "\n",
      "Increase the number of iterations (max_iter) or scale the data as shown in:\n",
      "    https://scikit-learn.org/stable/modules/preprocessing.html\n",
      "Please also refer to the documentation for alternative solver options:\n",
      "    https://scikit-learn.org/stable/modules/linear_model.html#logistic-regression\n",
      "  extra_warning_msg=_LOGISTIC_SOLVER_CONVERGENCE_MSG,\n",
      "/usr/local/lib/python3.7/dist-packages/sklearn/linear_model/_logistic.py:818: ConvergenceWarning: lbfgs failed to converge (status=1):\n",
      "STOP: TOTAL NO. of ITERATIONS REACHED LIMIT.\n",
      "\n",
      "Increase the number of iterations (max_iter) or scale the data as shown in:\n",
      "    https://scikit-learn.org/stable/modules/preprocessing.html\n",
      "Please also refer to the documentation for alternative solver options:\n",
      "    https://scikit-learn.org/stable/modules/linear_model.html#logistic-regression\n",
      "  extra_warning_msg=_LOGISTIC_SOLVER_CONVERGENCE_MSG,\n",
      "/usr/local/lib/python3.7/dist-packages/sklearn/linear_model/_logistic.py:818: ConvergenceWarning: lbfgs failed to converge (status=1):\n",
      "STOP: TOTAL NO. of ITERATIONS REACHED LIMIT.\n",
      "\n",
      "Increase the number of iterations (max_iter) or scale the data as shown in:\n",
      "    https://scikit-learn.org/stable/modules/preprocessing.html\n",
      "Please also refer to the documentation for alternative solver options:\n",
      "    https://scikit-learn.org/stable/modules/linear_model.html#logistic-regression\n",
      "  extra_warning_msg=_LOGISTIC_SOLVER_CONVERGENCE_MSG,\n",
      "/usr/local/lib/python3.7/dist-packages/sklearn/linear_model/_logistic.py:818: ConvergenceWarning: lbfgs failed to converge (status=1):\n",
      "STOP: TOTAL NO. of ITERATIONS REACHED LIMIT.\n",
      "\n",
      "Increase the number of iterations (max_iter) or scale the data as shown in:\n",
      "    https://scikit-learn.org/stable/modules/preprocessing.html\n",
      "Please also refer to the documentation for alternative solver options:\n",
      "    https://scikit-learn.org/stable/modules/linear_model.html#logistic-regression\n",
      "  extra_warning_msg=_LOGISTIC_SOLVER_CONVERGENCE_MSG,\n",
      "/usr/local/lib/python3.7/dist-packages/sklearn/linear_model/_logistic.py:818: ConvergenceWarning: lbfgs failed to converge (status=1):\n",
      "STOP: TOTAL NO. of ITERATIONS REACHED LIMIT.\n",
      "\n",
      "Increase the number of iterations (max_iter) or scale the data as shown in:\n",
      "    https://scikit-learn.org/stable/modules/preprocessing.html\n",
      "Please also refer to the documentation for alternative solver options:\n",
      "    https://scikit-learn.org/stable/modules/linear_model.html#logistic-regression\n",
      "  extra_warning_msg=_LOGISTIC_SOLVER_CONVERGENCE_MSG,\n",
      "/usr/local/lib/python3.7/dist-packages/sklearn/linear_model/_logistic.py:818: ConvergenceWarning: lbfgs failed to converge (status=1):\n",
      "STOP: TOTAL NO. of ITERATIONS REACHED LIMIT.\n",
      "\n",
      "Increase the number of iterations (max_iter) or scale the data as shown in:\n",
      "    https://scikit-learn.org/stable/modules/preprocessing.html\n",
      "Please also refer to the documentation for alternative solver options:\n",
      "    https://scikit-learn.org/stable/modules/linear_model.html#logistic-regression\n",
      "  extra_warning_msg=_LOGISTIC_SOLVER_CONVERGENCE_MSG,\n"
     ]
    },
    {
     "name": "stdout",
     "output_type": "stream",
     "text": [
      "Logistic Regression Classifier accuracy on the test set: 0.85\n"
     ]
    },
    {
     "name": "stderr",
     "output_type": "stream",
     "text": [
      "/usr/local/lib/python3.7/dist-packages/sklearn/linear_model/_logistic.py:818: ConvergenceWarning: lbfgs failed to converge (status=1):\n",
      "STOP: TOTAL NO. of ITERATIONS REACHED LIMIT.\n",
      "\n",
      "Increase the number of iterations (max_iter) or scale the data as shown in:\n",
      "    https://scikit-learn.org/stable/modules/preprocessing.html\n",
      "Please also refer to the documentation for alternative solver options:\n",
      "    https://scikit-learn.org/stable/modules/linear_model.html#logistic-regression\n",
      "  extra_warning_msg=_LOGISTIC_SOLVER_CONVERGENCE_MSG,\n"
     ]
    }
   ],
   "source": [
    "#Logistic Regression\n",
    "from sklearn.linear_model import LogisticRegression\n",
    "\n",
    "## One versus rest with multiclass set to 'ovr'\n",
    "log_regression = LogisticRegression(multi_class='ovr')\n",
    "log_regression.fit(X_train_reduce, y_train)\n",
    "l_predict = log_regression.predict(X_test_reduce)\n",
    "print(\"Logistic Regression Classifier accuracy on the test set: {:.2f}\".format(accuracy_score(y_test, l_predict)))"
   ]
  },
  {
   "cell_type": "code",
   "execution_count": 13,
   "metadata": {
    "colab": {
     "base_uri": "https://localhost:8080/"
    },
    "id": "HWs-RXWWXXz8",
    "outputId": "500631cd-c213-4801-c61b-189cfa9679dc",
    "pycharm": {
     "name": "#%%\n"
    }
   },
   "outputs": [
    {
     "name": "stdout",
     "output_type": "stream",
     "text": [
      "Decsion tree classifier accuracy on the test set: 0.74\n"
     ]
    }
   ],
   "source": [
    "#Decision Tree\n",
    "from sklearn.tree import DecisionTreeClassifier\n",
    "tr = DecisionTreeClassifier()\n",
    "tr.fit(X_train_reduce, y_train)\n",
    "t_predict = tr.predict(X_test_reduce)\n",
    "print(\"Decsion tree classifier accuracy on the test set: {:.2f}\".format(accuracy_score(y_test, t_predict)))"
   ]
  },
  {
   "cell_type": "code",
   "execution_count": 30,
   "metadata": {
    "colab": {
     "base_uri": "https://localhost:8080/"
    },
    "id": "D5gp9Lp3XXz8",
    "outputId": "633c91ca-5e31-4a1e-bad3-ff6a8cedbdcc",
    "pycharm": {
     "name": "#%%\n"
    }
   },
   "outputs": [
    {
     "name": "stdout",
     "output_type": "stream",
     "text": [
      "Linear SVM - accuracy on test set: 0.882\n"
     ]
    }
   ],
   "source": [
    "#SVC\n",
    "from sklearn.svm import SVC\n",
    "\n",
    "\n",
    "SVC = SVC(decision_function_shape='ovr')\n",
    "SVC.fit(X_train_reduce, y_train)\n",
    "svc_predict = SVC.predict(X_test_reduce)\n",
    "print(\"Linear SVM - accuracy on test set: {:.3f}\".format(accuracy_score(y_test, svc_predict)))"
   ]
  },
  {
   "cell_type": "markdown",
   "metadata": {
    "id": "FhSXIzKGXXz9"
   },
   "source": [
    "#### Ensemble Method"
   ]
  },
  {
   "cell_type": "code",
   "execution_count": 15,
   "metadata": {
    "colab": {
     "base_uri": "https://localhost:8080/"
    },
    "id": "L9SekY3hCF8x",
    "outputId": "acd81f73-c551-4722-c475-93a8086c323e"
   },
   "outputs": [
    {
     "name": "stdout",
     "output_type": "stream",
     "text": [
      "Random Forest ensembles of decsion tree:0.85\n"
     ]
    }
   ],
   "source": [
    "#Random Forest Classifier\n",
    "from sklearn.ensemble import RandomForestClassifier\n",
    "\n",
    "rf_tree = RandomForestClassifier()\n",
    "rf_tree.fit(X_train_reduce, y_train)\n",
    "rf_predict = rf_tree.predict(X_test_reduce)\n",
    "print(\"Random Forest ensembles of decsion tree:{:.2f}\".format(accuracy_score(y_test, rf_predict)))\n"
   ]
  },
  {
   "cell_type": "markdown",
   "metadata": {
    "id": "WFNzX7OoXXz9"
   },
   "source": [
    "### 4.1.3 Parameter Tuning"
   ]
  },
  {
   "cell_type": "markdown",
   "metadata": {
    "id": "yDwNKXJeXXz-"
   },
   "source": [
    "For each classifiers we would like to find the best parameters using grid search with k-fold (k>=5) cross validation."
   ]
  },
  {
   "cell_type": "code",
   "execution_count": 44,
   "metadata": {
    "id": "ufBoTcqcmWP1"
   },
   "outputs": [],
   "source": [
    "from sklearn.model_selection import GridSearchCV"
   ]
  },
  {
   "cell_type": "code",
   "execution_count": null,
   "metadata": {
    "colab": {
     "base_uri": "https://localhost:8080/"
    },
    "id": "yJ_3HXGkXXz-",
    "outputId": "7f94a38c-bbce-4b66-b95c-2607dcbd00fd",
    "pycharm": {
     "name": "#%%\n"
    }
   },
   "outputs": [
    {
     "name": "stdout",
     "output_type": "stream",
     "text": [
      "KNN Test set score: 0.85\n",
      "KNN Best parameters: {'n_neighbors': 5, 'p': 1}\n",
      "KNN Best cross-validation score: 0.85\n",
      "KNN Best estimator:\n",
      "KNeighborsClassifier(p=1)\n"
     ]
    }
   ],
   "source": [
    "# Tuning for KNeighbor Classifier\n",
    "KNN_para = {'n_neighbors': [1,3,5,11,15], 'p':[1,2]}\n",
    "\n",
    "\n",
    "\n",
    "grid_search_knn = GridSearchCV(nn, KNN_para, cv=5)\n",
    "grid_search_knn.fit(Norm_data_train, y_train)\n",
    "\n",
    "print(\"KNN Test set score: {:.2f}\".format(grid_search_knn.score(Norm_data_test, y_test)))\n",
    "print(\"KNN Best parameters: {}\".format(grid_search_knn.best_params_))\n",
    "print(\"KNN Best cross-validation score: {:.2f}\".format(grid_search_knn.best_score_))\n",
    "print(\"KNN Best estimator:\\n{}\".format(grid_search_knn.best_estimator_))"
   ]
  },
  {
   "cell_type": "code",
   "execution_count": null,
   "metadata": {
    "colab": {
     "base_uri": "https://localhost:8080/"
    },
    "id": "lP7j0J2LXXz_",
    "outputId": "7d17df69-b6ca-43ae-977c-35b4017620a0",
    "pycharm": {
     "name": "#%%\n"
    }
   },
   "outputs": [
    {
     "name": "stdout",
     "output_type": "stream",
     "text": [
      "Logistic regression test set score: 0.84\n",
      "Logistic regression best parameters: {'max_iter': 2000}\n",
      "Logistic regression best cross-validation score: 0.84\n",
      "Logistic regression best estimator:\n",
      "LogisticRegression(max_iter=2000)\n"
     ]
    }
   ],
   "source": [
    "# Tuning for Logistic Regression classifier\n",
    "lr_para = {\n",
    "           'max_iter':[2000, 3000, 6000]}\n",
    "grid_search_lr = GridSearchCV(log_regression, lr_para, cv=5, return_train_score=10)\n",
    "grid_search_lr.fit(Norm_data_train, y_train)\n",
    "print(\"Logistic regression test set score: {:.2f}\".format(grid_search_lr.score(Norm_data_test, y_test)))\n",
    "print(\"Logistic regression best parameters: {}\".format(grid_search_lr.best_params_))\n",
    "print(\"Logistic regression best cross-validation score: {:.2f}\".format(grid_search_lr.best_score_))\n",
    "print(\"Logistic regression best estimator:\\n{}\".format(grid_search_lr.best_estimator_))\n"
   ]
  },
  {
   "cell_type": "code",
   "execution_count": null,
   "metadata": {
    "colab": {
     "base_uri": "https://localhost:8080/"
    },
    "id": "h-ftzQPRXX0A",
    "outputId": "41b248e9-a3cb-4cf3-be36-ba43ad875759",
    "pycharm": {
     "name": "#%%\n"
    }
   },
   "outputs": [
    {
     "name": "stdout",
     "output_type": "stream",
     "text": [
      "Decision Tree test set score: 0.78\n",
      "Decision Tree best parameters: {'min_samples_split': 30}\n",
      "Decision Tree best cross-validation score: 0.78\n",
      "Decision Tree best estimator:\n",
      "DecisionTreeClassifier(criterion='entropy', min_samples_split=30,\n",
      "                       random_state=42, splitter='random')\n"
     ]
    }
   ],
   "source": [
    "# Tuning for Decision Tree\n",
    "tree_para = {\"min_samples_split\": [10,20,30,40]}\n",
    "grid_search_dt = GridSearchCV(tr, tree_para, cv=5, return_train_score=True)\n",
    "grid_search_dt.fit(Norm_data_train, y_train)\n",
    "print(\"Decision Tree test set score: {:.2f}\".format(grid_search_dt.score(Norm_data_test, y_test)))\n",
    "print(\"Decision Tree best parameters: {}\".format(grid_search_dt.best_params_))\n",
    "print(\"Decision Tree best cross-validation score: {:.2f}\".format(grid_search_dt.best_score_))\n",
    "print(\"Decision Tree best estimator:\\n{}\".format(grid_search_dt.best_estimator_))\n",
    "\n"
   ]
  },
  {
   "cell_type": "code",
   "execution_count": null,
   "metadata": {
    "id": "MNagX1t_XX0A",
    "pycharm": {
     "name": "#%%\n"
    }
   },
   "outputs": [],
   "source": [
    "# Tuning for Ensemble method of RandomForest classifier \n",
    "from sklearn.ensemble import RandomForestClassifier\n",
    "forest_para = {\"n_estimators\":[50, 100, 150, 200,400], \"max_depth\":[30,50,70], \"criterion\":[\"gini\",\"entropy\"], \"min_samples_split\":[1,2,3,4,5,10,20,30,40],\n",
    "               \"n_jobs\": [-1]}\n",
    "\n",
    "grid_search_randf = GridSearchCV(RandomForestClassifier(), forest_para, cv=5, return_train_score=True)\n",
    "grid_search_randf.fit(X_train_reduce, y_train)\n",
    "\n",
    "print(\"Random Forest test set score: {:.2f}\".format(grid_search_randf.score(X_test_reduce, y_test)))\n",
    "print(\"Random Forest best parameters: {}\".format(grid_search_randf.best_params_))\n",
    "print(\"Random Forest best cross-validation score: {:.2f}\".format(grid_search_randf.best_score_))\n",
    "print(\"Random Forest best estimator:\\n{}\".format(grid_search_randf.best_estimator_))"
   ]
  },
  {
   "cell_type": "code",
   "execution_count": null,
   "metadata": {
    "id": "dYo8oHC6Uo_U"
   },
   "outputs": [],
   "source": [
    "# Tuning for SVM \n",
    "# Runnable but time intensive. \n",
    "param_grid = {'C': [0.001, 0.01, 0.1, 1, 10, 100],\n",
    "              'gamma': [0.001, 0.01, 0.1, 1, 10, 100]}\n",
    "\n",
    "# Use GridSearcCV on the training set\n",
    "from sklearn.svm import SVC\n",
    "grid_search = GridSearchCV(SVC(), param_grid, cv=10,\n",
    "                          return_train_score=True)\n",
    "\n",
    "grid_search.fit(X_train_reduce, y_train)\n",
    "\n",
    "# Accuracy on test set of the model with selected best parameters:\n",
    "print(\"Test set score: {:.2f}\".format(grid_search.score(X_test_reduce, y_test)))\n",
    "print(\"Best parameters: {}\".format(grid_search.best_params_))\n",
    "print(\"Best cross-validation score: {:.2f}\".format(grid_search.best_score_))\n",
    "print(\"Best estimator:\\n{}\".format(grid_search.best_estimator_))\n"
   ]
  },
  {
   "cell_type": "markdown",
   "metadata": {
    "id": "uDZj3xs6XX0A"
   },
   "source": [
    "### 4.1.4 Classifier comparisons"
   ]
  },
  {
   "cell_type": "markdown",
   "metadata": {
    "id": "smuWn72rXX0A"
   },
   "source": [
    "After finding the best parameter for each algorithm, we would like to make comparisons between all classifiers using their own best hyper-parameters."
   ]
  },
  {
   "cell_type": "code",
   "execution_count": 12,
   "metadata": {
    "colab": {
     "base_uri": "https://localhost:8080/"
    },
    "id": "WO07J7CKXX0B",
    "outputId": "3c718e28-d860-44fe-9914-de9129f99604",
    "pycharm": {
     "name": "#%%\n"
    }
   },
   "outputs": [
    {
     "name": "stdout",
     "output_type": "stream",
     "text": [
      "KNN Classifier accuracy on the test set: 0.85\n"
     ]
    }
   ],
   "source": [
    "# Optimized Classifier of KNN with the best hyper_parameters\n",
    "from sklearn.neighbors import KNeighborsClassifier\n",
    "opt_nn = KNeighborsClassifier(n_neighbors=5, p=1, n_jobs=-1)\n",
    "opt_nn.fit(Norm_data_train, y_train)\n",
    "opt_output_prediction = opt_nn.predict(Norm_data_test)\n",
    "print(\"KNN Classifier accuracy on the test set: {:.2f}\".format(accuracy_score(y_test, opt_output_prediction)))"
   ]
  },
  {
   "cell_type": "code",
   "execution_count": 15,
   "metadata": {
    "colab": {
     "base_uri": "https://localhost:8080/"
    },
    "id": "x-G-Kl8bR0IP",
    "outputId": "22649ec1-07c2-4326-9419-b104f68d2da6"
   },
   "outputs": [
    {
     "name": "stdout",
     "output_type": "stream",
     "text": [
      "Logistic Regression Classifier accuracy on the test set: 0.84\n"
     ]
    }
   ],
   "source": [
    "# Optimized Classifier of logistic regression with best hyperparameter \n",
    "from sklearn.linear_model import LogisticRegression\n",
    "opt_log = LogisticRegression(max_iter=2000)\n",
    "opt_log.fit(Norm_data_train, y_train)\n",
    "opt_log_predict = opt_log.predict(Norm_data_test)\n",
    "print(\"Logistic Regression Classifier accuracy on the test set: {:.2f}\".format(accuracy_score(y_test, opt_log_predict)))\n"
   ]
  },
  {
   "cell_type": "code",
   "execution_count": 26,
   "metadata": {
    "colab": {
     "base_uri": "https://localhost:8080/"
    },
    "id": "PNjFje4OR2aZ",
    "outputId": "5d6d9e7c-781f-44ac-8bcb-a3b4fbcf7e0b"
   },
   "outputs": [
    {
     "name": "stdout",
     "output_type": "stream",
     "text": [
      "Decision Tree Classifier accuracy on the test set: 0.78\n"
     ]
    }
   ],
   "source": [
    "# Optimized Classifier of Decision Tree with the best hyper_parameter \n",
    "from sklearn.tree import DecisionTreeClassifier\n",
    "opt_tree = DecisionTreeClassifier(criterion='entropy', min_samples_split=30,\n",
    "                       random_state=42, splitter='random')\n",
    "opt_tree.fit(Norm_data_train, y_train)\n",
    "opt_tree_predict = opt_tree.predict(Norm_data_test)\n",
    "print(\"Decision Tree Classifier accuracy on the test set: {:.2f}\".format(accuracy_score(y_test, opt_tree_predict)))\n"
   ]
  },
  {
   "cell_type": "code",
   "execution_count": 12,
   "metadata": {
    "colab": {
     "base_uri": "https://localhost:8080/"
    },
    "id": "lz9dVVRkR2C4",
    "outputId": "d805049e-a72d-4c3b-b812-730d4b5f8a02"
   },
   "outputs": [
    {
     "name": "stdout",
     "output_type": "stream",
     "text": [
      "Random forest classifier accuracy on the test set: 0.87\n"
     ]
    }
   ],
   "source": [
    "# Optimized Classifier of random forest with the best hyper_parameter \n",
    "from sklearn.ensemble import RandomForestClassifier\n",
    "\n",
    "opt_rand_forest = RandomForestClassifier(max_depth=70,\n",
    " max_features='auto',\n",
    " min_samples_leaf=4,\n",
    " min_samples_split=10,\n",
    " n_estimators=400)\n",
    "opt_rand_forest.fit(Norm_data_train, y_train)\n",
    "opt_rand_forest_predict = opt_rand_forest.predict(Norm_data_test)\n",
    "print(\"Random forest classifier accuracy on the test set: {:.2f}\".format(accuracy_score(y_test, opt_rand_forest_predict)))\n",
    "\n"
   ]
  },
  {
   "cell_type": "code",
   "execution_count": 42,
   "metadata": {
    "colab": {
     "base_uri": "https://localhost:8080/"
    },
    "id": "ZNdUwmgl7nW0",
    "outputId": "767e3e1c-6b19-4ba7-f998-ea360156b44c"
   },
   "outputs": [
    {
     "name": "stdout",
     "output_type": "stream",
     "text": [
      "SVM - accuracy on test set: 0.878\n"
     ]
    }
   ],
   "source": [
    "# Optimized parameter with SVC\n",
    "# Since the tuning is time intensive, we only set decision function shape to be \n",
    "# 'ovr' for binary classifier\n",
    "from sklearn.svm import SVC\n",
    "\n",
    "opt_svc = SVC(decision_function_shape='ovr')\n",
    "opt_svc.fit(Norm_data_train, y_train)\n",
    "svc_predict = opt_svc.predict(Norm_data_test)\n",
    "print(\"SVM - accuracy on test set: {:.3f}\".format(accuracy_score(y_test, svc_predict)))"
   ]
  },
  {
   "cell_type": "markdown",
   "metadata": {
    "id": "QgwHc_e-Qy4M"
   },
   "source": [
    "# 5.Output Prediction"
   ]
  },
  {
   "cell_type": "markdown",
   "metadata": {
    "id": "td0bPQ0roOnN"
   },
   "source": [
    "Load test data and output the prediction. "
   ]
  },
  {
   "cell_type": "code",
   "execution_count": 4,
   "metadata": {
    "id": "Lz29rzZ3ohHk"
   },
   "outputs": [],
   "source": [
    "# test_input.csv includes 5000 samples used for label prediction. Test samples do not have labels.\n",
    "data_test_df = pd.read_csv('./Input/test/test_input.csv', index_col=0)"
   ]
  },
  {
   "cell_type": "code",
   "execution_count": 5,
   "metadata": {
    "colab": {
     "base_uri": "https://localhost:8080/",
     "height": 267
    },
    "id": "XrVnkmDrojJe",
    "outputId": "7a4a148c-766e-47fc-d67b-cf14c92dc38a"
   },
   "outputs": [
    {
     "data": {
      "text/html": [
       "<div>\n",
       "<style scoped>\n",
       "    .dataframe tbody tr th:only-of-type {\n",
       "        vertical-align: middle;\n",
       "    }\n",
       "\n",
       "    .dataframe tbody tr th {\n",
       "        vertical-align: top;\n",
       "    }\n",
       "\n",
       "    .dataframe thead th {\n",
       "        text-align: right;\n",
       "    }\n",
       "</style>\n",
       "<table border=\"1\" class=\"dataframe\">\n",
       "  <thead>\n",
       "    <tr style=\"text-align: right;\">\n",
       "      <th></th>\n",
       "      <th>v1</th>\n",
       "      <th>v2</th>\n",
       "      <th>v3</th>\n",
       "      <th>v4</th>\n",
       "      <th>v5</th>\n",
       "      <th>...</th>\n",
       "      <th>v780</th>\n",
       "      <th>v781</th>\n",
       "      <th>v782</th>\n",
       "      <th>v783</th>\n",
       "      <th>v784</th>\n",
       "    </tr>\n",
       "    <tr>\n",
       "      <th>id</th>\n",
       "      <th></th>\n",
       "      <th></th>\n",
       "      <th></th>\n",
       "      <th></th>\n",
       "      <th></th>\n",
       "      <th></th>\n",
       "      <th></th>\n",
       "      <th></th>\n",
       "      <th></th>\n",
       "      <th></th>\n",
       "      <th></th>\n",
       "    </tr>\n",
       "  </thead>\n",
       "  <tbody>\n",
       "    <tr>\n",
       "      <th>0</th>\n",
       "      <td>0</td>\n",
       "      <td>0</td>\n",
       "      <td>0</td>\n",
       "      <td>0</td>\n",
       "      <td>0</td>\n",
       "      <td>...</td>\n",
       "      <td>0</td>\n",
       "      <td>0</td>\n",
       "      <td>0</td>\n",
       "      <td>0</td>\n",
       "      <td>0</td>\n",
       "    </tr>\n",
       "    <tr>\n",
       "      <th>1</th>\n",
       "      <td>0</td>\n",
       "      <td>0</td>\n",
       "      <td>0</td>\n",
       "      <td>0</td>\n",
       "      <td>0</td>\n",
       "      <td>...</td>\n",
       "      <td>0</td>\n",
       "      <td>0</td>\n",
       "      <td>0</td>\n",
       "      <td>0</td>\n",
       "      <td>0</td>\n",
       "    </tr>\n",
       "    <tr>\n",
       "      <th>2</th>\n",
       "      <td>0</td>\n",
       "      <td>0</td>\n",
       "      <td>0</td>\n",
       "      <td>0</td>\n",
       "      <td>0</td>\n",
       "      <td>...</td>\n",
       "      <td>0</td>\n",
       "      <td>0</td>\n",
       "      <td>0</td>\n",
       "      <td>0</td>\n",
       "      <td>0</td>\n",
       "    </tr>\n",
       "    <tr>\n",
       "      <th>3</th>\n",
       "      <td>0</td>\n",
       "      <td>0</td>\n",
       "      <td>0</td>\n",
       "      <td>0</td>\n",
       "      <td>0</td>\n",
       "      <td>...</td>\n",
       "      <td>0</td>\n",
       "      <td>0</td>\n",
       "      <td>0</td>\n",
       "      <td>0</td>\n",
       "      <td>0</td>\n",
       "    </tr>\n",
       "    <tr>\n",
       "      <th>4</th>\n",
       "      <td>0</td>\n",
       "      <td>0</td>\n",
       "      <td>0</td>\n",
       "      <td>0</td>\n",
       "      <td>0</td>\n",
       "      <td>...</td>\n",
       "      <td>0</td>\n",
       "      <td>0</td>\n",
       "      <td>0</td>\n",
       "      <td>0</td>\n",
       "      <td>0</td>\n",
       "    </tr>\n",
       "  </tbody>\n",
       "</table>\n",
       "<p>5 rows × 784 columns</p>\n",
       "</div>"
      ],
      "text/plain": [
       "    v1  v2  v3  v4  v5  ...  v780  v781  v782  v783  v784\n",
       "id                      ...                              \n",
       "0    0   0   0   0   0  ...     0     0     0     0     0\n",
       "1    0   0   0   0   0  ...     0     0     0     0     0\n",
       "2    0   0   0   0   0  ...     0     0     0     0     0\n",
       "3    0   0   0   0   0  ...     0     0     0     0     0\n",
       "4    0   0   0   0   0  ...     0     0     0     0     0\n",
       "\n",
       "[5 rows x 784 columns]"
      ]
     },
     "execution_count": 5,
     "metadata": {},
     "output_type": "execute_result"
    }
   ],
   "source": [
    "data_test_df.head()"
   ]
  },
  {
   "cell_type": "markdown",
   "metadata": {
    "id": "CvFUAwWZo6Bc"
   },
   "source": [
    "After making a prediction on test data, all predicted lables will be saved in “test_output.csv”. "
   ]
  },
  {
   "cell_type": "markdown",
   "metadata": {
    "id": "FrLlfrtVRgbY"
   },
   "source": [
    "Here are the output predictions using the test input file. The output csv files are uploaded to kaggle for a score evaluation. "
   ]
  },
  {
   "cell_type": "code",
   "execution_count": 6,
   "metadata": {
    "id": "lkKBuV98t_-k"
   },
   "outputs": [],
   "source": [
    "# Use the highest parameter tuning score in the models to predict the label, test file as input. \n",
    "# Extract the features from test file \n",
    "data_test_feature = data_test_df.loc[:, \"v1\": \"v784\"].to_numpy()"
   ]
  },
  {
   "cell_type": "markdown",
   "metadata": {
    "id": "uUPQrsuiSdPb"
   },
   "source": [
    "Output CSV file for Support Vector Machine."
   ]
  },
  {
   "cell_type": "code",
   "execution_count": 39,
   "metadata": {
    "id": "DIETWF619C6P"
   },
   "outputs": [],
   "source": [
    "ouput_svc = opt_svc.predict(data_test_feature)\n",
    "output_svc_df = pd.DataFrame(ouput_svc, columns = ['label'])\n",
    "output_svc_df.to_csv('./Output/svc_test_output.csv', sep=\",\", float_format='%d', index_label=\"id\")"
   ]
  },
  {
   "cell_type": "markdown",
   "metadata": {
    "id": "AZMEzwqFSkRQ"
   },
   "source": [
    "Output CSV file for Random Forest Classifier."
   ]
  },
  {
   "cell_type": "code",
   "execution_count": 14,
   "metadata": {
    "id": "erYpOJNwNfYz"
   },
   "outputs": [],
   "source": [
    "output_rand_forest = opt_rand_forest.predict(data_test_feature)\n",
    "output_df_rand = pd.DataFrame(output_rand_forest, columns = ['label'])\n",
    "output_df_rand.to_csv('./Output/test_output.csv', sep=\",\", float_format='%d', index_label=\"id\")"
   ]
  },
  {
   "cell_type": "markdown",
   "metadata": {
    "id": "s3CW5s-TSvuu"
   },
   "source": [
    "Output CSV file for Logistic Regression Classifier."
   ]
  },
  {
   "cell_type": "code",
   "execution_count": null,
   "metadata": {
    "id": "cAaeZbD75OLZ"
   },
   "outputs": [],
   "source": [
    "output_Logistic = opt_log.predict(data_test_feature)\n",
    "output_Logistic_df = pd.DataFrame(output_Logistic, columns = ['label'])\n",
    "output_Logistic_df.to_csv('./Output/test_output_log.csv', sep=\",\", float_format='%d', index_label=\"id\")"
   ]
  },
  {
   "cell_type": "markdown",
   "metadata": {
    "id": "WFiH_wQ7SwM5"
   },
   "source": [
    "Output CSV file for KNN Neighbor Classifier."
   ]
  },
  {
   "cell_type": "code",
   "execution_count": null,
   "metadata": {
    "id": "xOuOIHjo5uIT"
   },
   "outputs": [],
   "source": [
    "output_knn = opt_nn.predict(data_test_feature)\n",
    "output_knn_df= pd.DataFrame(output_knn, columns = ['label'])\n",
    "output_knn_df.to_csv('./Output/knn_test_output.csv', sep=\",\", float_format='%d', index_label=\"id\")"
   ]
  },
  {
   "cell_type": "markdown",
   "metadata": {
    "id": "13nz0GELSw74"
   },
   "source": [
    "Output CSV file for Decision Tree classifier."
   ]
  },
  {
   "cell_type": "code",
   "execution_count": null,
   "metadata": {
    "id": "zWZ6Osyv5-Lg"
   },
   "outputs": [],
   "source": [
    "output_decision_tree = opt_tree.predict(data_test_feature)\n",
    "output_decision_tree_df = pd.DataFrame(output_decision_tree, columns = ['label'])\n",
    "output_decision_tree_df.to_csv('./Output/de_tree_test_output.csv', sep=\",\", float_format='%d', index_label=\"id\")"
   ]
  },
  {
   "cell_type": "markdown",
   "metadata": {
    "id": "naFiL_WZAJW3"
   },
   "source": [
    "### Output Prediction on Kaggle\n",
    "\n",
    "Accuracy: \n",
    "1. Random Forest Classifier: 77%\n",
    "2. Logistic Regression: 76.3%\n",
    "3. KNN: 69.8%\n",
    "4. Decision Tree: 57.8%\n",
    "5. Support Vector Machine: 9%\n",
    "\n",
    "Conclusion: Random forest classifier is our best model to predict the given test data set. "
   ]
  }
 ],
 "metadata": {
  "accelerator": "GPU",
  "anaconda-cloud": {},
  "colab": {
   "collapsed_sections": [],
   "name": "Assignment 1_2022.ipynb",
   "provenance": []
  },
  "kernelspec": {
   "display_name": "Python 3",
   "language": "python",
   "name": "python3"
  },
  "language_info": {
   "codemirror_mode": {
    "name": "ipython",
    "version": 3
   },
   "file_extension": ".py",
   "mimetype": "text/x-python",
   "name": "python",
   "nbconvert_exporter": "python",
   "pygments_lexer": "ipython3",
   "version": "3.7.3"
  }
 },
 "nbformat": 4,
 "nbformat_minor": 1
}